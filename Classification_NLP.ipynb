{
  "nbformat": 4,
  "nbformat_minor": 0,
  "metadata": {
    "colab": {
      "name": "ДЗ14_2.0",
      "provenance": [],
      "collapsed_sections": [],
      "authorship_tag": "ABX9TyPNyUncze6ZIpNd1jMJiynW",
      "include_colab_link": true
    },
    "kernelspec": {
      "name": "python3",
      "display_name": "Python 3"
    },
    "accelerator": "GPU"
  },
  "cells": [
    {
      "cell_type": "markdown",
      "metadata": {
        "id": "view-in-github",
        "colab_type": "text"
      },
      "source": [
        "<a href=\"https://colab.research.google.com/github/Dmitry1937/NLP-Classification-/blob/main/Classification_NLP.ipynb\" target=\"_parent\"><img src=\"https://colab.research.google.com/assets/colab-badge.svg\" alt=\"Open In Colab\"/></a>"
      ]
    },
    {
      "cell_type": "code",
      "metadata": {
        "id": "3T5kwY3iXpyW",
        "colab": {
          "base_uri": "https://localhost:8080/"
        },
        "outputId": "655e5fa0-f407-4b7a-d22c-7cfda01975b1"
      },
      "source": [
        "from google.colab import drive\n",
        "drive.mount('/content/drive')"
      ],
      "execution_count": null,
      "outputs": [
        {
          "output_type": "stream",
          "name": "stdout",
          "text": [
            "Drive already mounted at /content/drive; to attempt to forcibly remount, call drive.mount(\"/content/drive\", force_remount=True).\n"
          ]
        }
      ]
    },
    {
      "cell_type": "code",
      "metadata": {
        "id": "Lrpbmo_2mjaD"
      },
      "source": [
        "#! unzip ../content/drive/My\\ Drive/14.17_Genre_Classification_Dataset.zip"
      ],
      "execution_count": null,
      "outputs": []
    },
    {
      "cell_type": "code",
      "metadata": {
        "id": "o3u4O2iWYYYk",
        "colab": {
          "base_uri": "https://localhost:8080/"
        },
        "outputId": "3fcad82e-797f-492b-fff0-95341494b409"
      },
      "source": [
        "import os\n",
        "import pandas as pd\n",
        "import numpy as np\n",
        "from numpy import array\n",
        "from numpy import asarray\n",
        "from numpy import zeros\n",
        "from tensorflow.keras.preprocessing.text import Tokenizer\n",
        "from tensorflow.keras.preprocessing.sequence import pad_sequences\n",
        "from tensorflow.keras.models import Sequential\n",
        "from tensorflow.keras.layers import Dense\n",
        "from tensorflow.keras.layers import Flatten\n",
        "from tensorflow.keras.layers import Embedding\n",
        "import tensorflow as tf\n",
        "import nltk\n",
        "import string\n",
        "import matplotlib.pyplot as plt\n",
        "from gensim.models import Word2Vec \n",
        "from sklearn import metrics\n",
        "from sklearn.utils import class_weight\n",
        "\n",
        "\n",
        "nltk.download('punkt')"
      ],
      "execution_count": null,
      "outputs": [
        {
          "output_type": "stream",
          "name": "stdout",
          "text": [
            "[nltk_data] Downloading package punkt to /root/nltk_data...\n",
            "[nltk_data]   Package punkt is already up-to-date!\n"
          ]
        },
        {
          "output_type": "execute_result",
          "data": {
            "text/plain": [
              "True"
            ]
          },
          "metadata": {},
          "execution_count": 3
        }
      ]
    },
    {
      "cell_type": "code",
      "source": [
        "os.chdir('drive/MyDrive')"
      ],
      "metadata": {
        "id": "McQntdz38hKj"
      },
      "execution_count": null,
      "outputs": []
    },
    {
      "cell_type": "code",
      "metadata": {
        "id": "8Ufrpav2Ykro",
        "colab": {
          "base_uri": "https://localhost:8080/",
          "height": 204
        },
        "outputId": "94de486d-fe50-4191-9191-6e64110f1be6"
      },
      "source": [
        "#Загрузим данные \n",
        "train_data = pd.read_csv('Genre Classification Dataset/train_data.txt', sep = ' ::: ', header=None, index_col= [0],\\\n",
        "            engine='python', names=['TITLE','GENRE','DESCRIPTION'])\n",
        "train_data.head()"
      ],
      "execution_count": null,
      "outputs": [
        {
          "output_type": "execute_result",
          "data": {
            "text/plain": [
              "                              TITLE     GENRE  \\\n",
              "1      Oscar et la dame rose (2009)     drama   \n",
              "2                      Cupid (1997)  thriller   \n",
              "3  Young, Wild and Wonderful (1980)     adult   \n",
              "4             The Secret Sin (1915)     drama   \n",
              "5            The Unrecovered (2007)     drama   \n",
              "\n",
              "                                         DESCRIPTION  \n",
              "1  Listening in to a conversation between his doc...  \n",
              "2  A brother and sister with a past incestuous re...  \n",
              "3  As the bus empties the students for their fiel...  \n",
              "4  To help their unemployed father make ends meet...  \n",
              "5  The film's title refers not only to the un-rec...  "
            ],
            "text/html": [
              "\n",
              "  <div id=\"df-b1706379-a1de-404e-a7b9-4624802eeaff\">\n",
              "    <div class=\"colab-df-container\">\n",
              "      <div>\n",
              "<style scoped>\n",
              "    .dataframe tbody tr th:only-of-type {\n",
              "        vertical-align: middle;\n",
              "    }\n",
              "\n",
              "    .dataframe tbody tr th {\n",
              "        vertical-align: top;\n",
              "    }\n",
              "\n",
              "    .dataframe thead th {\n",
              "        text-align: right;\n",
              "    }\n",
              "</style>\n",
              "<table border=\"1\" class=\"dataframe\">\n",
              "  <thead>\n",
              "    <tr style=\"text-align: right;\">\n",
              "      <th></th>\n",
              "      <th>TITLE</th>\n",
              "      <th>GENRE</th>\n",
              "      <th>DESCRIPTION</th>\n",
              "    </tr>\n",
              "  </thead>\n",
              "  <tbody>\n",
              "    <tr>\n",
              "      <th>1</th>\n",
              "      <td>Oscar et la dame rose (2009)</td>\n",
              "      <td>drama</td>\n",
              "      <td>Listening in to a conversation between his doc...</td>\n",
              "    </tr>\n",
              "    <tr>\n",
              "      <th>2</th>\n",
              "      <td>Cupid (1997)</td>\n",
              "      <td>thriller</td>\n",
              "      <td>A brother and sister with a past incestuous re...</td>\n",
              "    </tr>\n",
              "    <tr>\n",
              "      <th>3</th>\n",
              "      <td>Young, Wild and Wonderful (1980)</td>\n",
              "      <td>adult</td>\n",
              "      <td>As the bus empties the students for their fiel...</td>\n",
              "    </tr>\n",
              "    <tr>\n",
              "      <th>4</th>\n",
              "      <td>The Secret Sin (1915)</td>\n",
              "      <td>drama</td>\n",
              "      <td>To help their unemployed father make ends meet...</td>\n",
              "    </tr>\n",
              "    <tr>\n",
              "      <th>5</th>\n",
              "      <td>The Unrecovered (2007)</td>\n",
              "      <td>drama</td>\n",
              "      <td>The film's title refers not only to the un-rec...</td>\n",
              "    </tr>\n",
              "  </tbody>\n",
              "</table>\n",
              "</div>\n",
              "      <button class=\"colab-df-convert\" onclick=\"convertToInteractive('df-b1706379-a1de-404e-a7b9-4624802eeaff')\"\n",
              "              title=\"Convert this dataframe to an interactive table.\"\n",
              "              style=\"display:none;\">\n",
              "        \n",
              "  <svg xmlns=\"http://www.w3.org/2000/svg\" height=\"24px\"viewBox=\"0 0 24 24\"\n",
              "       width=\"24px\">\n",
              "    <path d=\"M0 0h24v24H0V0z\" fill=\"none\"/>\n",
              "    <path d=\"M18.56 5.44l.94 2.06.94-2.06 2.06-.94-2.06-.94-.94-2.06-.94 2.06-2.06.94zm-11 1L8.5 8.5l.94-2.06 2.06-.94-2.06-.94L8.5 2.5l-.94 2.06-2.06.94zm10 10l.94 2.06.94-2.06 2.06-.94-2.06-.94-.94-2.06-.94 2.06-2.06.94z\"/><path d=\"M17.41 7.96l-1.37-1.37c-.4-.4-.92-.59-1.43-.59-.52 0-1.04.2-1.43.59L10.3 9.45l-7.72 7.72c-.78.78-.78 2.05 0 2.83L4 21.41c.39.39.9.59 1.41.59.51 0 1.02-.2 1.41-.59l7.78-7.78 2.81-2.81c.8-.78.8-2.07 0-2.86zM5.41 20L4 18.59l7.72-7.72 1.47 1.35L5.41 20z\"/>\n",
              "  </svg>\n",
              "      </button>\n",
              "      \n",
              "  <style>\n",
              "    .colab-df-container {\n",
              "      display:flex;\n",
              "      flex-wrap:wrap;\n",
              "      gap: 12px;\n",
              "    }\n",
              "\n",
              "    .colab-df-convert {\n",
              "      background-color: #E8F0FE;\n",
              "      border: none;\n",
              "      border-radius: 50%;\n",
              "      cursor: pointer;\n",
              "      display: none;\n",
              "      fill: #1967D2;\n",
              "      height: 32px;\n",
              "      padding: 0 0 0 0;\n",
              "      width: 32px;\n",
              "    }\n",
              "\n",
              "    .colab-df-convert:hover {\n",
              "      background-color: #E2EBFA;\n",
              "      box-shadow: 0px 1px 2px rgba(60, 64, 67, 0.3), 0px 1px 3px 1px rgba(60, 64, 67, 0.15);\n",
              "      fill: #174EA6;\n",
              "    }\n",
              "\n",
              "    [theme=dark] .colab-df-convert {\n",
              "      background-color: #3B4455;\n",
              "      fill: #D2E3FC;\n",
              "    }\n",
              "\n",
              "    [theme=dark] .colab-df-convert:hover {\n",
              "      background-color: #434B5C;\n",
              "      box-shadow: 0px 1px 3px 1px rgba(0, 0, 0, 0.15);\n",
              "      filter: drop-shadow(0px 1px 2px rgba(0, 0, 0, 0.3));\n",
              "      fill: #FFFFFF;\n",
              "    }\n",
              "  </style>\n",
              "\n",
              "      <script>\n",
              "        const buttonEl =\n",
              "          document.querySelector('#df-b1706379-a1de-404e-a7b9-4624802eeaff button.colab-df-convert');\n",
              "        buttonEl.style.display =\n",
              "          google.colab.kernel.accessAllowed ? 'block' : 'none';\n",
              "\n",
              "        async function convertToInteractive(key) {\n",
              "          const element = document.querySelector('#df-b1706379-a1de-404e-a7b9-4624802eeaff');\n",
              "          const dataTable =\n",
              "            await google.colab.kernel.invokeFunction('convertToInteractive',\n",
              "                                                     [key], {});\n",
              "          if (!dataTable) return;\n",
              "\n",
              "          const docLinkHtml = 'Like what you see? Visit the ' +\n",
              "            '<a target=\"_blank\" href=https://colab.research.google.com/notebooks/data_table.ipynb>data table notebook</a>'\n",
              "            + ' to learn more about interactive tables.';\n",
              "          element.innerHTML = '';\n",
              "          dataTable['output_type'] = 'display_data';\n",
              "          await google.colab.output.renderOutput(dataTable, element);\n",
              "          const docLink = document.createElement('div');\n",
              "          docLink.innerHTML = docLinkHtml;\n",
              "          element.appendChild(docLink);\n",
              "        }\n",
              "      </script>\n",
              "    </div>\n",
              "  </div>\n",
              "  "
            ]
          },
          "metadata": {},
          "execution_count": 5
        }
      ]
    },
    {
      "cell_type": "code",
      "metadata": {
        "id": "rbQW9s5ZU1Rw",
        "colab": {
          "base_uri": "https://localhost:8080/"
        },
        "outputId": "75567e23-aaa2-4289-8435-79704383cd63"
      },
      "source": [
        "#Переведем кодировку жанров в цисловой\n",
        "genre_key = dict()\n",
        "key_genre = dict()\n",
        "for i, key, in  enumerate(train_data.GENRE.unique()):\n",
        "  genre_key[key] = i\n",
        "  key_genre[i] = key\n",
        "print(genre_key)\n"
      ],
      "execution_count": null,
      "outputs": [
        {
          "output_type": "stream",
          "name": "stdout",
          "text": [
            "{'drama': 0, 'thriller': 1, 'adult': 2, 'documentary': 3, 'comedy': 4, 'crime': 5, 'reality-tv': 6, 'horror': 7, 'sport': 8, 'animation': 9, 'action': 10, 'fantasy': 11, 'short': 12, 'sci-fi': 13, 'music': 14, 'adventure': 15, 'talk-show': 16, 'western': 17, 'family': 18, 'mystery': 19, 'history': 20, 'news': 21, 'biography': 22, 'romance': 23, 'game-show': 24, 'musical': 25, 'war': 26}\n"
          ]
        }
      ]
    },
    {
      "cell_type": "code",
      "metadata": {
        "id": "z-95fNzrU8mv",
        "colab": {
          "base_uri": "https://localhost:8080/",
          "height": 514
        },
        "outputId": "1383f21a-e386-4e53-cab9-148c15dec917"
      },
      "source": [
        "train_data.head(15)"
      ],
      "execution_count": null,
      "outputs": [
        {
          "output_type": "execute_result",
          "data": {
            "text/plain": [
              "                                  TITLE        GENRE  \\\n",
              "1          Oscar et la dame rose (2009)        drama   \n",
              "2                          Cupid (1997)     thriller   \n",
              "3      Young, Wild and Wonderful (1980)        adult   \n",
              "4                 The Secret Sin (1915)        drama   \n",
              "5                The Unrecovered (2007)        drama   \n",
              "6                Quality Control (2011)  documentary   \n",
              "7                    \"Pink Slip\" (2009)       comedy   \n",
              "8                  One Step Away (1985)        crime   \n",
              "9              \"Desperate Hours\" (2016)   reality-tv   \n",
              "10                     Spirits (2014/I)       horror   \n",
              "11       The Spirit World: Ghana (2016)  documentary   \n",
              "12               In the Gloaming (1997)        drama   \n",
              "13  Pink Ribbons: One Small Step (2009)  documentary   \n",
              "14                   Interrabang (1969)     thriller   \n",
              "15           The Glass Menagerie (1973)        drama   \n",
              "\n",
              "                                          DESCRIPTION  \n",
              "1   Listening in to a conversation between his doc...  \n",
              "2   A brother and sister with a past incestuous re...  \n",
              "3   As the bus empties the students for their fiel...  \n",
              "4   To help their unemployed father make ends meet...  \n",
              "5   The film's title refers not only to the un-rec...  \n",
              "6   Quality Control consists of a series of 16mm s...  \n",
              "7   In tough economic times Max and Joey have all ...  \n",
              "8   Ron Petrie (Keanu Reeves) is a troubled teen w...  \n",
              "9   A sudden calamitous event, causing great loss ...  \n",
              "10  Four high school students embark on a terrifyi...  \n",
              "11  Tom Beacham explores Ghana with Director of Ph...  \n",
              "12  Danny, dying of Aids, returns home for his las...  \n",
              "13  A sister's breast cancer diagnosis and her bro...  \n",
              "14  A photographer is sailing with his wife, her s...  \n",
              "15  Amanda Wingfield dominates her children with h...  "
            ],
            "text/html": [
              "\n",
              "  <div id=\"df-a1e22323-c03b-4b1a-9649-d2fe226c2313\">\n",
              "    <div class=\"colab-df-container\">\n",
              "      <div>\n",
              "<style scoped>\n",
              "    .dataframe tbody tr th:only-of-type {\n",
              "        vertical-align: middle;\n",
              "    }\n",
              "\n",
              "    .dataframe tbody tr th {\n",
              "        vertical-align: top;\n",
              "    }\n",
              "\n",
              "    .dataframe thead th {\n",
              "        text-align: right;\n",
              "    }\n",
              "</style>\n",
              "<table border=\"1\" class=\"dataframe\">\n",
              "  <thead>\n",
              "    <tr style=\"text-align: right;\">\n",
              "      <th></th>\n",
              "      <th>TITLE</th>\n",
              "      <th>GENRE</th>\n",
              "      <th>DESCRIPTION</th>\n",
              "    </tr>\n",
              "  </thead>\n",
              "  <tbody>\n",
              "    <tr>\n",
              "      <th>1</th>\n",
              "      <td>Oscar et la dame rose (2009)</td>\n",
              "      <td>drama</td>\n",
              "      <td>Listening in to a conversation between his doc...</td>\n",
              "    </tr>\n",
              "    <tr>\n",
              "      <th>2</th>\n",
              "      <td>Cupid (1997)</td>\n",
              "      <td>thriller</td>\n",
              "      <td>A brother and sister with a past incestuous re...</td>\n",
              "    </tr>\n",
              "    <tr>\n",
              "      <th>3</th>\n",
              "      <td>Young, Wild and Wonderful (1980)</td>\n",
              "      <td>adult</td>\n",
              "      <td>As the bus empties the students for their fiel...</td>\n",
              "    </tr>\n",
              "    <tr>\n",
              "      <th>4</th>\n",
              "      <td>The Secret Sin (1915)</td>\n",
              "      <td>drama</td>\n",
              "      <td>To help their unemployed father make ends meet...</td>\n",
              "    </tr>\n",
              "    <tr>\n",
              "      <th>5</th>\n",
              "      <td>The Unrecovered (2007)</td>\n",
              "      <td>drama</td>\n",
              "      <td>The film's title refers not only to the un-rec...</td>\n",
              "    </tr>\n",
              "    <tr>\n",
              "      <th>6</th>\n",
              "      <td>Quality Control (2011)</td>\n",
              "      <td>documentary</td>\n",
              "      <td>Quality Control consists of a series of 16mm s...</td>\n",
              "    </tr>\n",
              "    <tr>\n",
              "      <th>7</th>\n",
              "      <td>\"Pink Slip\" (2009)</td>\n",
              "      <td>comedy</td>\n",
              "      <td>In tough economic times Max and Joey have all ...</td>\n",
              "    </tr>\n",
              "    <tr>\n",
              "      <th>8</th>\n",
              "      <td>One Step Away (1985)</td>\n",
              "      <td>crime</td>\n",
              "      <td>Ron Petrie (Keanu Reeves) is a troubled teen w...</td>\n",
              "    </tr>\n",
              "    <tr>\n",
              "      <th>9</th>\n",
              "      <td>\"Desperate Hours\" (2016)</td>\n",
              "      <td>reality-tv</td>\n",
              "      <td>A sudden calamitous event, causing great loss ...</td>\n",
              "    </tr>\n",
              "    <tr>\n",
              "      <th>10</th>\n",
              "      <td>Spirits (2014/I)</td>\n",
              "      <td>horror</td>\n",
              "      <td>Four high school students embark on a terrifyi...</td>\n",
              "    </tr>\n",
              "    <tr>\n",
              "      <th>11</th>\n",
              "      <td>The Spirit World: Ghana (2016)</td>\n",
              "      <td>documentary</td>\n",
              "      <td>Tom Beacham explores Ghana with Director of Ph...</td>\n",
              "    </tr>\n",
              "    <tr>\n",
              "      <th>12</th>\n",
              "      <td>In the Gloaming (1997)</td>\n",
              "      <td>drama</td>\n",
              "      <td>Danny, dying of Aids, returns home for his las...</td>\n",
              "    </tr>\n",
              "    <tr>\n",
              "      <th>13</th>\n",
              "      <td>Pink Ribbons: One Small Step (2009)</td>\n",
              "      <td>documentary</td>\n",
              "      <td>A sister's breast cancer diagnosis and her bro...</td>\n",
              "    </tr>\n",
              "    <tr>\n",
              "      <th>14</th>\n",
              "      <td>Interrabang (1969)</td>\n",
              "      <td>thriller</td>\n",
              "      <td>A photographer is sailing with his wife, her s...</td>\n",
              "    </tr>\n",
              "    <tr>\n",
              "      <th>15</th>\n",
              "      <td>The Glass Menagerie (1973)</td>\n",
              "      <td>drama</td>\n",
              "      <td>Amanda Wingfield dominates her children with h...</td>\n",
              "    </tr>\n",
              "  </tbody>\n",
              "</table>\n",
              "</div>\n",
              "      <button class=\"colab-df-convert\" onclick=\"convertToInteractive('df-a1e22323-c03b-4b1a-9649-d2fe226c2313')\"\n",
              "              title=\"Convert this dataframe to an interactive table.\"\n",
              "              style=\"display:none;\">\n",
              "        \n",
              "  <svg xmlns=\"http://www.w3.org/2000/svg\" height=\"24px\"viewBox=\"0 0 24 24\"\n",
              "       width=\"24px\">\n",
              "    <path d=\"M0 0h24v24H0V0z\" fill=\"none\"/>\n",
              "    <path d=\"M18.56 5.44l.94 2.06.94-2.06 2.06-.94-2.06-.94-.94-2.06-.94 2.06-2.06.94zm-11 1L8.5 8.5l.94-2.06 2.06-.94-2.06-.94L8.5 2.5l-.94 2.06-2.06.94zm10 10l.94 2.06.94-2.06 2.06-.94-2.06-.94-.94-2.06-.94 2.06-2.06.94z\"/><path d=\"M17.41 7.96l-1.37-1.37c-.4-.4-.92-.59-1.43-.59-.52 0-1.04.2-1.43.59L10.3 9.45l-7.72 7.72c-.78.78-.78 2.05 0 2.83L4 21.41c.39.39.9.59 1.41.59.51 0 1.02-.2 1.41-.59l7.78-7.78 2.81-2.81c.8-.78.8-2.07 0-2.86zM5.41 20L4 18.59l7.72-7.72 1.47 1.35L5.41 20z\"/>\n",
              "  </svg>\n",
              "      </button>\n",
              "      \n",
              "  <style>\n",
              "    .colab-df-container {\n",
              "      display:flex;\n",
              "      flex-wrap:wrap;\n",
              "      gap: 12px;\n",
              "    }\n",
              "\n",
              "    .colab-df-convert {\n",
              "      background-color: #E8F0FE;\n",
              "      border: none;\n",
              "      border-radius: 50%;\n",
              "      cursor: pointer;\n",
              "      display: none;\n",
              "      fill: #1967D2;\n",
              "      height: 32px;\n",
              "      padding: 0 0 0 0;\n",
              "      width: 32px;\n",
              "    }\n",
              "\n",
              "    .colab-df-convert:hover {\n",
              "      background-color: #E2EBFA;\n",
              "      box-shadow: 0px 1px 2px rgba(60, 64, 67, 0.3), 0px 1px 3px 1px rgba(60, 64, 67, 0.15);\n",
              "      fill: #174EA6;\n",
              "    }\n",
              "\n",
              "    [theme=dark] .colab-df-convert {\n",
              "      background-color: #3B4455;\n",
              "      fill: #D2E3FC;\n",
              "    }\n",
              "\n",
              "    [theme=dark] .colab-df-convert:hover {\n",
              "      background-color: #434B5C;\n",
              "      box-shadow: 0px 1px 3px 1px rgba(0, 0, 0, 0.15);\n",
              "      filter: drop-shadow(0px 1px 2px rgba(0, 0, 0, 0.3));\n",
              "      fill: #FFFFFF;\n",
              "    }\n",
              "  </style>\n",
              "\n",
              "      <script>\n",
              "        const buttonEl =\n",
              "          document.querySelector('#df-a1e22323-c03b-4b1a-9649-d2fe226c2313 button.colab-df-convert');\n",
              "        buttonEl.style.display =\n",
              "          google.colab.kernel.accessAllowed ? 'block' : 'none';\n",
              "\n",
              "        async function convertToInteractive(key) {\n",
              "          const element = document.querySelector('#df-a1e22323-c03b-4b1a-9649-d2fe226c2313');\n",
              "          const dataTable =\n",
              "            await google.colab.kernel.invokeFunction('convertToInteractive',\n",
              "                                                     [key], {});\n",
              "          if (!dataTable) return;\n",
              "\n",
              "          const docLinkHtml = 'Like what you see? Visit the ' +\n",
              "            '<a target=\"_blank\" href=https://colab.research.google.com/notebooks/data_table.ipynb>data table notebook</a>'\n",
              "            + ' to learn more about interactive tables.';\n",
              "          element.innerHTML = '';\n",
              "          dataTable['output_type'] = 'display_data';\n",
              "          await google.colab.output.renderOutput(dataTable, element);\n",
              "          const docLink = document.createElement('div');\n",
              "          docLink.innerHTML = docLinkHtml;\n",
              "          element.appendChild(docLink);\n",
              "        }\n",
              "      </script>\n",
              "    </div>\n",
              "  </div>\n",
              "  "
            ]
          },
          "metadata": {},
          "execution_count": 7
        }
      ]
    },
    {
      "cell_type": "code",
      "metadata": {
        "id": "w9uMBhCyVF8c"
      },
      "source": [
        "docs = train_data.TITLE +' '+ train_data.DESCRIPTION    #train_data.DESCRIPTION.values\n",
        "labels = train_data.GENRE.replace(genre_key).values"
      ],
      "execution_count": null,
      "outputs": []
    },
    {
      "cell_type": "code",
      "metadata": {
        "id": "vAdquxg7UTnd"
      },
      "source": [
        "# prepare tokenizer\n",
        "t = Tokenizer( )\n",
        "t.fit_on_texts(docs)\n",
        "vocab_size = len(t.word_index) + 1"
      ],
      "execution_count": null,
      "outputs": []
    },
    {
      "cell_type": "code",
      "metadata": {
        "id": "0w93IhSbWMVj"
      },
      "source": [
        "# integer encode the documents\n",
        "encoded_docs = t.texts_to_sequences(docs, )"
      ],
      "execution_count": null,
      "outputs": []
    },
    {
      "cell_type": "code",
      "metadata": {
        "id": "phz6DYdEJenq"
      },
      "source": [
        "max_length = 256"
      ],
      "execution_count": null,
      "outputs": []
    },
    {
      "cell_type": "code",
      "metadata": {
        "id": "NUpsP5oLaM8T"
      },
      "source": [
        "# pad documents to a max length of words\n",
        "padded_docs = pad_sequences(encoded_docs, maxlen=max_length, padding='post', )"
      ],
      "execution_count": null,
      "outputs": []
    },
    {
      "cell_type": "markdown",
      "metadata": {
        "id": "QbKH05BZXlqR"
      },
      "source": [
        "### Word2Vec"
      ]
    },
    {
      "cell_type": "code",
      "metadata": {
        "id": "_zdJwZ6JFdQ8"
      },
      "source": [
        "WORD2VEC = False"
      ],
      "execution_count": null,
      "outputs": []
    },
    {
      "cell_type": "code",
      "metadata": {
        "id": "RAIcqSo2PPSv"
      },
      "source": [
        "stop_words = [\n",
        "    'i', 'me', 'my', 'myself', 'we', 'our', 'ours', 'ourselves', 'you', \"you're\", \"you've\", \"you'll\", \"you'd\",\n",
        "    'your', 'yours', 'yourself', 'yourselves', 'he', 'him', 'his', 'himself', 'she', \"she's\", 'her', 'hers',\n",
        "    'herself', 'it', \"it's\", 'its', 'itself', 'they', 'them', 'their', 'theirs', 'themselves', 'what', 'which',\n",
        "    'who', 'whom', 'this', 'that', \"that'll\", 'these', 'those', 'am', 'is', 'are', 'was', 'were', 'be', 'been',\n",
        "    'being', 'have', 'has', 'had', 'having', 'do', 'does', 'did', 'doing', 'a', 'an', 'the', 'and', 'but', 'if',\n",
        "    'or', 'because', 'as', 'until', 'while', 'of', 'at', 'by', 'for', 'with', 'about', 'against', 'between',\n",
        "    'into', 'through', 'during', 'before', 'after', 'above', 'below', 'to', 'from', 'up', 'down', 'in', 'out',\n",
        "    'on', 'off', 'over', 'under', 'again', 'further', 'then', 'once', 'here', 'there', 'when', 'where', 'why',\n",
        "    'how', 'all', 'any', 'both', 'each', 'few', 'more', 'most', 'other', 'some', 'such', 'no', 'nor', 'not',\n",
        "    'only', 'own', 'same', 'so', 'than', 'too', 'very', 's', 't', 'can', 'will', 'just', 'don', \"don't\", 'shold',\n",
        "    \"should've\", 'now', 'd', 'll', 'm', 'o', 're', 've', 'y', 'ain', 'aren', \"aren't\", 'couldn', \"couldn't\",\n",
        "    'didn', \"didn't\", 'doesn', \"doesn't\", 'hadn', \"hadn't\", 'hasn', \"hasn't\", 'haven', \"haven't\", 'isn', \"isn't\",\n",
        "    'ma', 'mightn', \"mightn't\", 'mustn', \"mustn't\", 'needn', \"needn't\", 'shan', \"shan't\", 'shouldn', \"shouldn't\",\n",
        "    'wasn', \"wasn't\", 'weren', \"weren't\", 'won', \"won't\", 'wouldn', \"wouldn't\"\n",
        "]"
      ],
      "execution_count": null,
      "outputs": []
    },
    {
      "cell_type": "code",
      "metadata": {
        "id": "aiT0wzkvoAaf"
      },
      "source": [
        "def tokeniz_text(row_data:str):\n",
        "  tokeniz = nltk.word_tokenize(row_data.lower()) \n",
        "  tokeniz = [i for i in tokeniz if i not in string.punctuation]\n",
        "  tokeniz = [i for i in tokeniz if i not in stop_words]\n",
        "  return tokeniz"
      ],
      "execution_count": null,
      "outputs": []
    },
    {
      "cell_type": "code",
      "metadata": {
        "id": "ghnZ5rNfoPF1"
      },
      "source": [
        "#Выполним формирования токенов\n",
        "if WORD2VEC:\n",
        "  train_data.insert(1, \"tokenized\", train_data.DESCRIPTION.apply(tokeniz_text), True) \n",
        "  train_data.head()"
      ],
      "execution_count": null,
      "outputs": []
    },
    {
      "cell_type": "code",
      "metadata": {
        "id": "9V_sYAg0pjlK"
      },
      "source": [
        "#Распределения по жанрам\n",
        "train_data.GENRE.hist( bins = 27,  )\n",
        "plt.xticks(rotation=90)\n",
        "plt.show()"
      ],
      "execution_count": null,
      "outputs": []
    },
    {
      "cell_type": "code",
      "metadata": {
        "id": "EfcrOXgzs7N1"
      },
      "source": [
        "#Подготовим словарь со всеми словами на трейне\n",
        "if WORD2VEC:\n",
        "  vocabulary = set()\n",
        "  for token in train_data.tokenized:\n",
        "    for word in token:\n",
        "      vocabulary.add(word)\n",
        "  len(vocabulary)"
      ],
      "execution_count": null,
      "outputs": []
    },
    {
      "cell_type": "code",
      "metadata": {
        "id": "d5GB9xWBwVNf"
      },
      "source": [
        "#Сформируем окончательный вид таблицы для трейна\n",
        "if WORD2VEC:\n",
        "  train_data = train_data['tokenized']\n",
        "  train_data.head()"
      ],
      "execution_count": null,
      "outputs": []
    },
    {
      "cell_type": "code",
      "metadata": {
        "id": "i0_dGrjeZoq-"
      },
      "source": [
        "if WORD2VEC:\n",
        "  MAX_SEQ_LEN = 1000\n",
        "  VOCAB_SIZE = len(vocabulary)+1\n",
        "  OUTPUT_SIZE = len(genre_key)\n",
        "  EMB_SIZE = 50 # Размер векторного представления (эмбеддинга)"
      ],
      "execution_count": null,
      "outputs": []
    },
    {
      "cell_type": "code",
      "metadata": {
        "id": "uT9udoXPZei_"
      },
      "source": [
        "if WORD2VEC:\n",
        "  model_W2V =  Word2Vec(train_data.values, min_count = 2, size = EMB_SIZE, window = 5, sg = 0 ,)"
      ],
      "execution_count": null,
      "outputs": []
    },
    {
      "cell_type": "code",
      "metadata": {
        "id": "ZwVJYZ_yZesg"
      },
      "source": [
        "if WORD2VEC:\n",
        "  filename = 'embeddings.txt'\n",
        "  model_W2V.wv.save_word2vec_format(filename,)"
      ],
      "execution_count": null,
      "outputs": []
    },
    {
      "cell_type": "markdown",
      "metadata": {
        "id": "u8sIQ3uzZ34D"
      },
      "source": [
        "  ### Trening"
      ]
    },
    {
      "cell_type": "markdown",
      "metadata": {
        "id": "Z5EBlphMRCu1"
      },
      "source": [
        "Не стал использовать собственный embedding. Скачал GloVE"
      ]
    },
    {
      "cell_type": "code",
      "metadata": {
        "id": "mlzMjO7OKSJS"
      },
      "source": [
        "MAX_SEQ_LEN = max_length #1000\n",
        "OUTPUT_SIZE = len(genre_key)\n",
        "EMB_SIZE = 50 # Размер векторного представления (эмбеддинга)\n",
        "BATCH_SIZE = 256"
      ],
      "execution_count": null,
      "outputs": []
    },
    {
      "cell_type": "code",
      "metadata": {
        "id": "mXOpI1sDHVub",
        "colab": {
          "base_uri": "https://localhost:8080/"
        },
        "outputId": "eadc9c6a-c2bc-499c-cc6b-266c4d9a09d8"
      },
      "source": [
        "import os, requests, shutil\n",
        "\n",
        "glove_dir = './data/RNN/'\n",
        "glove_100k_50d = 'glove.first-100k.6B.50d.txt'\n",
        "glove_100k_50d_path = os.path.join(glove_dir, glove_100k_50d)\n",
        "\n",
        "# These are temporary files if we need to download it from the original source (slow)\n",
        "#The original file is at http://nlp.stanford.edu/data/glove.840B.300d.zip\n",
        "data_cache = './data/cache'\n",
        "glove_full_tar = 'glove.6B.zip'\n",
        "glove_full_50d = 'glove.6B.50d.txt'\n",
        "\n",
        "#force_download_from_original=False\n",
        "download_url= 'http://redcatlabs.com/downloads/deep-learning-workshop/notebooks/data/RNN/'+glove_100k_50d\n",
        "original_url = 'http://nlp.stanford.edu/data/'+glove_full_tar\n",
        "\n",
        "if not os.path.isfile( glove_100k_50d_path ):\n",
        "    if not os.path.exists(glove_dir):\n",
        "        os.makedirs(glove_dir)\n",
        "    \n",
        "    # First, try to download a pre-prepared file directly...\n",
        "    response = requests.get(download_url, stream=True)\n",
        "    if response.status_code == requests.codes.ok:\n",
        "        print(\"Downloading 42Mb pre-prepared GloVE file from RedCatLabs\")\n",
        "        with open(glove_100k_50d_path, 'wb') as out_file:\n",
        "            shutil.copyfileobj(response.raw, out_file)\n",
        "    else:\n",
        "        # But, for some reason, RedCatLabs didn't give us the file directly\n",
        "        if not os.path.exists(data_cache):\n",
        "            os.makedirs(data_cache)\n",
        "        \n",
        "        if not os.path.isfile( os.path.join(data_cache, glove_full_50d) ):\n",
        "            zipfilepath = os.path.join(data_cache, glove_full_tar)\n",
        "            if not os.path.isfile( zipfilepath ):\n",
        "                print(\"Downloading 860Mb GloVE file from Stanford\")\n",
        "                response = requests.get(download_url, stream=True)\n",
        "                with open(zipfilepath, 'wb') as out_file:\n",
        "                    shutil.copyfileobj(response.raw, out_file)\n",
        "            if os.path.isfile(zipfilepath):\n",
        "                print(\"Unpacking 50d GloVE file from zip\")\n",
        "                import zipfile\n",
        "                zipfile.ZipFile(zipfilepath, 'r').extract(glove_full_50d, data_cache)\n",
        "\n",
        "        with open(os.path.join(data_cache, glove_full_50d), 'rt') as in_file:\n",
        "            with open(glove_100k_50d_path, 'wt') as out_file:\n",
        "                print(\"Reducing 50d GloVE file to first 100k words\")\n",
        "                for i, l in enumerate(in_file.readlines()):\n",
        "                    if i>=100000: break\n",
        "                    out_file.write(l)\n",
        "    \n",
        "        # Get rid of tarfile source (the required text file itself will remain)\n",
        "        #os.unlink(zipfilepath)\n",
        "        #os.unlink(os.path.join(data_cache, glove_full_50d))\n",
        "\n",
        "print(\"GloVE available locally\")"
      ],
      "execution_count": null,
      "outputs": [
        {
          "output_type": "stream",
          "name": "stdout",
          "text": [
            "GloVE available locally\n"
          ]
        }
      ]
    },
    {
      "cell_type": "code",
      "metadata": {
        "id": "3zdQabHQHfq6"
      },
      "source": [
        "filename = 'data/RNN/glove.first-100k.6B.50d.txt'"
      ],
      "execution_count": null,
      "outputs": []
    },
    {
      "cell_type": "code",
      "metadata": {
        "id": "iKeFeslm92nP"
      },
      "source": [
        "# split the data into a training set and a validation set\n",
        "VALIDATION_SPLIT = 0.2\n",
        "indices = np.arange(padded_docs.shape[0])\n",
        "np.random.shuffle(indices)\n",
        "padded_docs = padded_docs[indices]\n",
        "labels = labels[indices]\n",
        "nb_validation_samples = int(VALIDATION_SPLIT * padded_docs.shape[0])\n",
        "\n",
        "x_train = padded_docs[:-nb_validation_samples]\n",
        "y_train = labels[:-nb_validation_samples]\n",
        "x_val = padded_docs[-nb_validation_samples:]\n",
        "y_val = labels[-nb_validation_samples:]\n"
      ],
      "execution_count": null,
      "outputs": []
    },
    {
      "cell_type": "code",
      "metadata": {
        "id": "2tLpwkMkZ--G",
        "colab": {
          "base_uri": "https://localhost:8080/"
        },
        "outputId": "41e0ef8f-0f45-4866-c40a-20bbc17186da"
      },
      "source": [
        "# load the whole embedding into memory\n",
        "embeddings_index = dict()\n",
        "f = open(filename)\n",
        "for line in f:\n",
        "\tvalues = line.split()\n",
        "\tword = values[0]\n",
        "\tcoefs = asarray(values[1:], dtype='float32')\n",
        "\tembeddings_index[word] = coefs\n",
        "f.close()\n",
        "print('Loaded %s word vectors.' % len(embeddings_index))"
      ],
      "execution_count": null,
      "outputs": [
        {
          "output_type": "stream",
          "name": "stdout",
          "text": [
            "Loaded 100000 word vectors.\n"
          ]
        }
      ]
    },
    {
      "cell_type": "code",
      "metadata": {
        "id": "vUsiWUzca4sl"
      },
      "source": [
        "# create a weight matrix for words in training docs\n",
        "EMB_SIZE = 50\n",
        "embedding_matrix = zeros((vocab_size, EMB_SIZE))\n",
        "for word, i in t.word_index.items():\n",
        "\tembedding_vector = embeddings_index.get(word)\n",
        "\tif embedding_vector is not None:\n",
        "\t\tembedding_matrix[i] = embedding_vector"
      ],
      "execution_count": null,
      "outputs": []
    },
    {
      "cell_type": "code",
      "metadata": {
        "id": "bjaW9oK3Z_Mu"
      },
      "source": [
        "embedding_layer = Embedding(vocab_size,\n",
        "                            EMB_SIZE,\n",
        "                            weights=[embedding_matrix],\n",
        "                            input_length=max_length,\n",
        "                            trainable=False)\n"
      ],
      "execution_count": null,
      "outputs": []
    },
    {
      "cell_type": "code",
      "metadata": {
        "id": "831KtfzsZ_Se",
        "colab": {
          "base_uri": "https://localhost:8080/"
        },
        "outputId": "052dbe6a-bec3-4909-849a-b47ac8b8ecbc"
      },
      "source": [
        "model = tf.keras.Sequential([\n",
        "    embedding_layer,\n",
        "    tf.keras.layers.GRU(50,  return_sequences=True, dropout=0.2),\n",
        "    tf.keras.layers.Bidirectional(\n",
        "      tf.keras.layers.GRU(100,  return_sequences=False, )),\n",
        "    tf.keras.layers.Dense(54, activation=tf.nn.relu),\n",
        "    tf.keras.layers.Dense(OUTPUT_SIZE, activation=tf.nn.softmax),\n",
        "])\n",
        "\n",
        "model.summary()"
      ],
      "execution_count": null,
      "outputs": [
        {
          "output_type": "stream",
          "name": "stdout",
          "text": [
            "Model: \"sequential\"\n",
            "_________________________________________________________________\n",
            " Layer (type)                Output Shape              Param #   \n",
            "=================================================================\n",
            " embedding (Embedding)       (None, 256, 50)           7699350   \n",
            "                                                                 \n",
            " gru (GRU)                   (None, 256, 50)           15300     \n",
            "                                                                 \n",
            " bidirectional (Bidirectiona  (None, 200)              91200     \n",
            " l)                                                              \n",
            "                                                                 \n",
            " dense (Dense)               (None, 54)                10854     \n",
            "                                                                 \n",
            " dense_1 (Dense)             (None, 27)                1485      \n",
            "                                                                 \n",
            "=================================================================\n",
            "Total params: 7,818,189\n",
            "Trainable params: 118,839\n",
            "Non-trainable params: 7,699,350\n",
            "_________________________________________________________________\n"
          ]
        }
      ]
    },
    {
      "cell_type": "code",
      "metadata": {
        "id": "9XhUZN1U7voN"
      },
      "source": [
        "model.compile(optimizer=tf.keras.optimizers.Adam(learning_rate=0.001),\n",
        "              loss=tf.keras.losses.sparse_categorical_crossentropy,\n",
        "              metrics=['acc'])"
      ],
      "execution_count": null,
      "outputs": []
    },
    {
      "cell_type": "code",
      "metadata": {
        "id": "eO6w5xwt7u6M",
        "colab": {
          "base_uri": "https://localhost:8080/"
        },
        "outputId": "8ad51ef6-264f-4d0c-d6ac-a8b065806caf"
      },
      "source": [
        "model.fit(x_train, y_train, epochs=50, verbose=1, batch_size=BATCH_SIZE,\\\n",
        "          validation_data = (x_val,y_val) ,\\\n",
        "          callbacks = [tf.keras.callbacks.EarlyStopping(patience=10),\\\n",
        "          tf.keras.callbacks.ModelCheckpoint(filepath='model.h5', save_best_only=True )], )\n",
        "# evaluate the model\n",
        "#loss, accuracy = model.evaluate(x_train, y_train, verbose=0, )\n",
        "model.load_weights('model.h5')"
      ],
      "execution_count": null,
      "outputs": [
        {
          "output_type": "stream",
          "name": "stdout",
          "text": [
            "Epoch 1/50\n",
            "170/170 [==============================] - 18s 82ms/step - loss: 2.2735 - acc: 0.3441 - val_loss: 2.0283 - val_acc: 0.4234\n",
            "Epoch 2/50\n",
            "170/170 [==============================] - 13s 75ms/step - loss: 1.8603 - acc: 0.4600 - val_loss: 1.7278 - val_acc: 0.4882\n",
            "Epoch 3/50\n",
            "170/170 [==============================] - 13s 76ms/step - loss: 1.6787 - acc: 0.5005 - val_loss: 1.6228 - val_acc: 0.5140\n",
            "Epoch 4/50\n",
            "170/170 [==============================] - 13s 77ms/step - loss: 1.6035 - acc: 0.5197 - val_loss: 1.5582 - val_acc: 0.5267\n",
            "Epoch 5/50\n",
            "170/170 [==============================] - 13s 75ms/step - loss: 1.5433 - acc: 0.5341 - val_loss: 1.5077 - val_acc: 0.5417\n",
            "Epoch 6/50\n",
            "170/170 [==============================] - 13s 75ms/step - loss: 1.5016 - acc: 0.5434 - val_loss: 1.4772 - val_acc: 0.5495\n",
            "Epoch 7/50\n",
            "170/170 [==============================] - 13s 75ms/step - loss: 1.4606 - acc: 0.5546 - val_loss: 1.4399 - val_acc: 0.5568\n",
            "Epoch 8/50\n",
            "170/170 [==============================] - 13s 74ms/step - loss: 1.4253 - acc: 0.5610 - val_loss: 1.4232 - val_acc: 0.5614\n",
            "Epoch 9/50\n",
            "170/170 [==============================] - 13s 75ms/step - loss: 1.4006 - acc: 0.5661 - val_loss: 1.3967 - val_acc: 0.5648\n",
            "Epoch 10/50\n",
            "170/170 [==============================] - 13s 75ms/step - loss: 1.3772 - acc: 0.5720 - val_loss: 1.3827 - val_acc: 0.5661\n",
            "Epoch 11/50\n",
            "170/170 [==============================] - 13s 74ms/step - loss: 1.3549 - acc: 0.5786 - val_loss: 1.3711 - val_acc: 0.5715\n",
            "Epoch 12/50\n",
            "170/170 [==============================] - 13s 76ms/step - loss: 1.3313 - acc: 0.5863 - val_loss: 1.3522 - val_acc: 0.5771\n",
            "Epoch 13/50\n",
            "170/170 [==============================] - 13s 75ms/step - loss: 1.3124 - acc: 0.5895 - val_loss: 1.3416 - val_acc: 0.5837\n",
            "Epoch 14/50\n",
            "170/170 [==============================] - 13s 76ms/step - loss: 1.2945 - acc: 0.5930 - val_loss: 1.3348 - val_acc: 0.5833\n",
            "Epoch 15/50\n",
            "170/170 [==============================] - 13s 75ms/step - loss: 1.2792 - acc: 0.5997 - val_loss: 1.3329 - val_acc: 0.5846\n",
            "Epoch 16/50\n",
            "170/170 [==============================] - 13s 76ms/step - loss: 1.2675 - acc: 0.6013 - val_loss: 1.3229 - val_acc: 0.5861\n",
            "Epoch 17/50\n",
            "170/170 [==============================] - 12s 71ms/step - loss: 1.2521 - acc: 0.6078 - val_loss: 1.3240 - val_acc: 0.5837\n",
            "Epoch 18/50\n",
            "170/170 [==============================] - 13s 74ms/step - loss: 1.2357 - acc: 0.6093 - val_loss: 1.3155 - val_acc: 0.5889\n",
            "Epoch 19/50\n",
            "170/170 [==============================] - 13s 77ms/step - loss: 1.2228 - acc: 0.6148 - val_loss: 1.3131 - val_acc: 0.5881\n",
            "Epoch 20/50\n",
            "170/170 [==============================] - 12s 72ms/step - loss: 1.2086 - acc: 0.6149 - val_loss: 1.3221 - val_acc: 0.5880\n",
            "Epoch 21/50\n",
            "170/170 [==============================] - 12s 71ms/step - loss: 1.1971 - acc: 0.6211 - val_loss: 1.3494 - val_acc: 0.5841\n",
            "Epoch 22/50\n",
            "170/170 [==============================] - 12s 72ms/step - loss: 1.1868 - acc: 0.6228 - val_loss: 1.3176 - val_acc: 0.5880\n",
            "Epoch 23/50\n",
            "170/170 [==============================] - 12s 72ms/step - loss: 1.1740 - acc: 0.6276 - val_loss: 1.3196 - val_acc: 0.5877\n",
            "Epoch 24/50\n",
            "170/170 [==============================] - 12s 72ms/step - loss: 1.1600 - acc: 0.6290 - val_loss: 1.3206 - val_acc: 0.5852\n",
            "Epoch 25/50\n",
            "170/170 [==============================] - 13s 75ms/step - loss: 1.1533 - acc: 0.6305 - val_loss: 1.3085 - val_acc: 0.5932\n",
            "Epoch 26/50\n",
            "170/170 [==============================] - 12s 71ms/step - loss: 1.1407 - acc: 0.6355 - val_loss: 1.3196 - val_acc: 0.5919\n",
            "Epoch 27/50\n",
            "170/170 [==============================] - 12s 71ms/step - loss: 1.1317 - acc: 0.6381 - val_loss: 1.3196 - val_acc: 0.5966\n",
            "Epoch 28/50\n",
            "170/170 [==============================] - 12s 71ms/step - loss: 1.1254 - acc: 0.6408 - val_loss: 1.3168 - val_acc: 0.5905\n",
            "Epoch 29/50\n",
            "170/170 [==============================] - 12s 71ms/step - loss: 1.1076 - acc: 0.6452 - val_loss: 1.3312 - val_acc: 0.5884\n",
            "Epoch 30/50\n",
            "170/170 [==============================] - 12s 71ms/step - loss: 1.1043 - acc: 0.6439 - val_loss: 1.3294 - val_acc: 0.5906\n",
            "Epoch 31/50\n",
            "170/170 [==============================] - 12s 71ms/step - loss: 1.0900 - acc: 0.6506 - val_loss: 1.3253 - val_acc: 0.5905\n",
            "Epoch 32/50\n",
            "170/170 [==============================] - 12s 71ms/step - loss: 1.0840 - acc: 0.6534 - val_loss: 1.3217 - val_acc: 0.5927\n",
            "Epoch 33/50\n",
            "170/170 [==============================] - 12s 71ms/step - loss: 1.0786 - acc: 0.6529 - val_loss: 1.3211 - val_acc: 0.5889\n",
            "Epoch 34/50\n",
            "170/170 [==============================] - 12s 71ms/step - loss: 1.0696 - acc: 0.6560 - val_loss: 1.3286 - val_acc: 0.5903\n",
            "Epoch 35/50\n",
            "170/170 [==============================] - 12s 72ms/step - loss: 1.0584 - acc: 0.6599 - val_loss: 1.3388 - val_acc: 0.5890\n"
          ]
        }
      ]
    },
    {
      "cell_type": "code",
      "metadata": {
        "id": "whGtveL2JpTb",
        "colab": {
          "base_uri": "https://localhost:8080/"
        },
        "outputId": "6beed4e0-fdb8-48fc-b19d-55f2ea55056b"
      },
      "source": [
        "model2 = tf.keras.Sequential([\n",
        "    embedding_layer,\n",
        "    #tf.keras.layers.Conv1D(filters=512, kernel_size=5, padding='same', activation='relu'),\n",
        "    #tf.keras.layers.Dropout(0.5),\n",
        "    #tf.keras.layers.MaxPooling1D(pool_size=2),\n",
        "    tf.keras.layers.Bidirectional(\n",
        "      tf.keras.layers.LSTM(256,return_sequences=True, dropout=0.2)),\n",
        "    #tf.keras.layers.Dropout(0.5),\n",
        "    tf.keras.layers.Bidirectional(\n",
        "      tf.keras.layers.LSTM(128,  return_sequences=False, )),\n",
        "    #tf.keras.layers.Dense(128, activation = 'relu'),\n",
        "    tf.keras.layers.Dense(OUTPUT_SIZE, activation = 'softmax'),\n",
        "])\n",
        "\n",
        "model2.summary()"
      ],
      "execution_count": null,
      "outputs": [
        {
          "output_type": "stream",
          "name": "stdout",
          "text": [
            "Model: \"sequential_1\"\n",
            "_________________________________________________________________\n",
            " Layer (type)                Output Shape              Param #   \n",
            "=================================================================\n",
            " embedding (Embedding)       (None, 256, 50)           7699350   \n",
            "                                                                 \n",
            " bidirectional_1 (Bidirectio  (None, 256, 512)         628736    \n",
            " nal)                                                            \n",
            "                                                                 \n",
            " bidirectional_2 (Bidirectio  (None, 256)              656384    \n",
            " nal)                                                            \n",
            "                                                                 \n",
            " dense_2 (Dense)             (None, 27)                6939      \n",
            "                                                                 \n",
            "=================================================================\n",
            "Total params: 8,991,409\n",
            "Trainable params: 1,292,059\n",
            "Non-trainable params: 7,699,350\n",
            "_________________________________________________________________\n"
          ]
        }
      ]
    },
    {
      "cell_type": "code",
      "metadata": {
        "id": "ang1M4zq7p92"
      },
      "source": [
        "model2.compile(optimizer=tf.keras.optimizers.Adam(learning_rate=0.001),\n",
        "              loss=tf.keras.losses.sparse_categorical_crossentropy,\n",
        "              metrics=['acc'])\n",
        "#tf.keras.losses.sparse_categorical_crossentropy\n",
        "#tf.keras.optimizers.Adam(learning_rate=0.1)"
      ],
      "execution_count": null,
      "outputs": []
    },
    {
      "cell_type": "code",
      "metadata": {
        "id": "FKkdpUSC784H"
      },
      "source": [
        "x_train = padded_docs[nb_validation_samples:] #padded_docs[:-nb_validation_samples]\n",
        "y_train = labels[nb_validation_samples:]\n",
        "x_val = padded_docs[:nb_validation_samples]\n",
        "y_val = labels[:nb_validation_samples]"
      ],
      "execution_count": null,
      "outputs": []
    },
    {
      "cell_type": "code",
      "metadata": {
        "id": "p9qil7QWZ_mS",
        "colab": {
          "base_uri": "https://localhost:8080/"
        },
        "outputId": "4e2d0ab7-8f61-459a-f369-5c0833271e4c"
      },
      "source": [
        "# fit the model\n",
        "model2.fit(x_train, y_train, epochs=30, verbose=1, batch_size=BATCH_SIZE,\\\n",
        "          #class_weight=class_weight_dict,\n",
        "          validation_data = (x_val,y_val) ,\\\n",
        "          callbacks = [tf.keras.callbacks.EarlyStopping(patience=10),\\\n",
        "          tf.keras.callbacks.ModelCheckpoint(filepath='model2.h5', save_best_only=True )], )\n",
        "# evaluate the model\n",
        "#loss, accuracy = model.evaluate(x_train, y_train, verbose=0, )\n",
        "model2.load_weights('model2.h5')"
      ],
      "execution_count": null,
      "outputs": [
        {
          "output_type": "stream",
          "name": "stdout",
          "text": [
            "Epoch 1/30\n",
            "170/170 [==============================] - 39s 199ms/step - loss: 2.0837 - acc: 0.4097 - val_loss: 1.8543 - val_acc: 0.4712\n",
            "Epoch 2/30\n",
            "170/170 [==============================] - 33s 192ms/step - loss: 1.7604 - acc: 0.4781 - val_loss: 1.6578 - val_acc: 0.5033\n",
            "Epoch 3/30\n",
            "170/170 [==============================] - 33s 193ms/step - loss: 1.6207 - acc: 0.5101 - val_loss: 1.5627 - val_acc: 0.5229\n",
            "Epoch 4/30\n",
            "170/170 [==============================] - 33s 193ms/step - loss: 1.5103 - acc: 0.5375 - val_loss: 1.4804 - val_acc: 0.5426\n",
            "Epoch 5/30\n",
            "170/170 [==============================] - 33s 194ms/step - loss: 1.4310 - acc: 0.5549 - val_loss: 1.4129 - val_acc: 0.5688\n",
            "Epoch 6/30\n",
            "170/170 [==============================] - 33s 193ms/step - loss: 1.3652 - acc: 0.5750 - val_loss: 1.3780 - val_acc: 0.5762\n",
            "Epoch 7/30\n",
            "170/170 [==============================] - 33s 193ms/step - loss: 1.3077 - acc: 0.5915 - val_loss: 1.3545 - val_acc: 0.5825\n",
            "Epoch 8/30\n",
            "170/170 [==============================] - 32s 188ms/step - loss: 1.2596 - acc: 0.6049 - val_loss: 1.3644 - val_acc: 0.5777\n",
            "Epoch 9/30\n",
            "170/170 [==============================] - 33s 192ms/step - loss: 1.2174 - acc: 0.6147 - val_loss: 1.3303 - val_acc: 0.5906\n",
            "Epoch 10/30\n",
            "170/170 [==============================] - 32s 188ms/step - loss: 1.1710 - acc: 0.6269 - val_loss: 1.3333 - val_acc: 0.5885\n",
            "Epoch 11/30\n",
            "170/170 [==============================] - 33s 193ms/step - loss: 1.1239 - acc: 0.6412 - val_loss: 1.3258 - val_acc: 0.5929\n",
            "Epoch 12/30\n",
            "170/170 [==============================] - 32s 189ms/step - loss: 1.0763 - acc: 0.6566 - val_loss: 1.3414 - val_acc: 0.5863\n",
            "Epoch 13/30\n",
            "170/170 [==============================] - 32s 189ms/step - loss: 1.0374 - acc: 0.6660 - val_loss: 1.3315 - val_acc: 0.5910\n",
            "Epoch 14/30\n",
            "170/170 [==============================] - 32s 189ms/step - loss: 0.9912 - acc: 0.6806 - val_loss: 1.3574 - val_acc: 0.5932\n",
            "Epoch 15/30\n",
            "170/170 [==============================] - 32s 189ms/step - loss: 0.9690 - acc: 0.6851 - val_loss: 1.4504 - val_acc: 0.5602\n",
            "Epoch 16/30\n",
            "170/170 [==============================] - 32s 189ms/step - loss: 1.0231 - acc: 0.6676 - val_loss: 1.3541 - val_acc: 0.5835\n",
            "Epoch 17/30\n",
            "170/170 [==============================] - 32s 189ms/step - loss: 0.9481 - acc: 0.6913 - val_loss: 1.3521 - val_acc: 0.5924\n",
            "Epoch 18/30\n",
            "170/170 [==============================] - 32s 189ms/step - loss: 0.8827 - acc: 0.7140 - val_loss: 1.3902 - val_acc: 0.5906\n",
            "Epoch 19/30\n",
            "170/170 [==============================] - 32s 189ms/step - loss: 0.8311 - acc: 0.7307 - val_loss: 1.4004 - val_acc: 0.5920\n",
            "Epoch 20/30\n",
            "170/170 [==============================] - 32s 189ms/step - loss: 0.8191 - acc: 0.7324 - val_loss: 1.4202 - val_acc: 0.5808\n",
            "Epoch 21/30\n",
            "170/170 [==============================] - 32s 188ms/step - loss: 0.8170 - acc: 0.7335 - val_loss: 1.4344 - val_acc: 0.5857\n"
          ]
        }
      ]
    },
    {
      "cell_type": "markdown",
      "metadata": {
        "id": "vWAFx6FoLV7U"
      },
      "source": [
        "### Test\n"
      ]
    },
    {
      "cell_type": "code",
      "metadata": {
        "id": "d8q-uTCKb8hy",
        "colab": {
          "base_uri": "https://localhost:8080/",
          "height": 204
        },
        "outputId": "c1b542b7-a440-4fde-b7c5-9233916f8e83"
      },
      "source": [
        "#Загрузим True метки класса\n",
        "test =  pd.read_csv('Genre Classification Dataset/test_data_solution.txt', sep = ' ::: ', header=None, index_col= [0],\\\n",
        "            engine='python', names=['TITLE','GENRE','DESCRIPTION'])\n",
        "test.tail()"
      ],
      "execution_count": null,
      "outputs": [
        {
          "output_type": "execute_result",
          "data": {
            "text/plain": [
              "                                TITLE    GENRE  \\\n",
              "54196  \"Tales of Light & Dark\" (2013)   horror   \n",
              "54197     Der letzte Mohikaner (1965)  western   \n",
              "54198             Oliver Twink (2007)    adult   \n",
              "54199               Slipstream (1973)    drama   \n",
              "54200       Curitiba Zero Grau (2010)    drama   \n",
              "\n",
              "                                             DESCRIPTION  \n",
              "54196  Covering multiple genres, Tales of Light & Dar...  \n",
              "54197  As Alice and Cora Munro attempt to find their ...  \n",
              "54198  A movie 169 years in the making. Oliver Twist,...  \n",
              "54199  Popular, but mysterious rock D.J Mike Mallard ...  \n",
              "54200  Curitiba is a city in movement, with rhythms a...  "
            ],
            "text/html": [
              "\n",
              "  <div id=\"df-c5d0a690-c37f-4c8e-a50c-ef5ec9850606\">\n",
              "    <div class=\"colab-df-container\">\n",
              "      <div>\n",
              "<style scoped>\n",
              "    .dataframe tbody tr th:only-of-type {\n",
              "        vertical-align: middle;\n",
              "    }\n",
              "\n",
              "    .dataframe tbody tr th {\n",
              "        vertical-align: top;\n",
              "    }\n",
              "\n",
              "    .dataframe thead th {\n",
              "        text-align: right;\n",
              "    }\n",
              "</style>\n",
              "<table border=\"1\" class=\"dataframe\">\n",
              "  <thead>\n",
              "    <tr style=\"text-align: right;\">\n",
              "      <th></th>\n",
              "      <th>TITLE</th>\n",
              "      <th>GENRE</th>\n",
              "      <th>DESCRIPTION</th>\n",
              "    </tr>\n",
              "  </thead>\n",
              "  <tbody>\n",
              "    <tr>\n",
              "      <th>54196</th>\n",
              "      <td>\"Tales of Light &amp; Dark\" (2013)</td>\n",
              "      <td>horror</td>\n",
              "      <td>Covering multiple genres, Tales of Light &amp; Dar...</td>\n",
              "    </tr>\n",
              "    <tr>\n",
              "      <th>54197</th>\n",
              "      <td>Der letzte Mohikaner (1965)</td>\n",
              "      <td>western</td>\n",
              "      <td>As Alice and Cora Munro attempt to find their ...</td>\n",
              "    </tr>\n",
              "    <tr>\n",
              "      <th>54198</th>\n",
              "      <td>Oliver Twink (2007)</td>\n",
              "      <td>adult</td>\n",
              "      <td>A movie 169 years in the making. Oliver Twist,...</td>\n",
              "    </tr>\n",
              "    <tr>\n",
              "      <th>54199</th>\n",
              "      <td>Slipstream (1973)</td>\n",
              "      <td>drama</td>\n",
              "      <td>Popular, but mysterious rock D.J Mike Mallard ...</td>\n",
              "    </tr>\n",
              "    <tr>\n",
              "      <th>54200</th>\n",
              "      <td>Curitiba Zero Grau (2010)</td>\n",
              "      <td>drama</td>\n",
              "      <td>Curitiba is a city in movement, with rhythms a...</td>\n",
              "    </tr>\n",
              "  </tbody>\n",
              "</table>\n",
              "</div>\n",
              "      <button class=\"colab-df-convert\" onclick=\"convertToInteractive('df-c5d0a690-c37f-4c8e-a50c-ef5ec9850606')\"\n",
              "              title=\"Convert this dataframe to an interactive table.\"\n",
              "              style=\"display:none;\">\n",
              "        \n",
              "  <svg xmlns=\"http://www.w3.org/2000/svg\" height=\"24px\"viewBox=\"0 0 24 24\"\n",
              "       width=\"24px\">\n",
              "    <path d=\"M0 0h24v24H0V0z\" fill=\"none\"/>\n",
              "    <path d=\"M18.56 5.44l.94 2.06.94-2.06 2.06-.94-2.06-.94-.94-2.06-.94 2.06-2.06.94zm-11 1L8.5 8.5l.94-2.06 2.06-.94-2.06-.94L8.5 2.5l-.94 2.06-2.06.94zm10 10l.94 2.06.94-2.06 2.06-.94-2.06-.94-.94-2.06-.94 2.06-2.06.94z\"/><path d=\"M17.41 7.96l-1.37-1.37c-.4-.4-.92-.59-1.43-.59-.52 0-1.04.2-1.43.59L10.3 9.45l-7.72 7.72c-.78.78-.78 2.05 0 2.83L4 21.41c.39.39.9.59 1.41.59.51 0 1.02-.2 1.41-.59l7.78-7.78 2.81-2.81c.8-.78.8-2.07 0-2.86zM5.41 20L4 18.59l7.72-7.72 1.47 1.35L5.41 20z\"/>\n",
              "  </svg>\n",
              "      </button>\n",
              "      \n",
              "  <style>\n",
              "    .colab-df-container {\n",
              "      display:flex;\n",
              "      flex-wrap:wrap;\n",
              "      gap: 12px;\n",
              "    }\n",
              "\n",
              "    .colab-df-convert {\n",
              "      background-color: #E8F0FE;\n",
              "      border: none;\n",
              "      border-radius: 50%;\n",
              "      cursor: pointer;\n",
              "      display: none;\n",
              "      fill: #1967D2;\n",
              "      height: 32px;\n",
              "      padding: 0 0 0 0;\n",
              "      width: 32px;\n",
              "    }\n",
              "\n",
              "    .colab-df-convert:hover {\n",
              "      background-color: #E2EBFA;\n",
              "      box-shadow: 0px 1px 2px rgba(60, 64, 67, 0.3), 0px 1px 3px 1px rgba(60, 64, 67, 0.15);\n",
              "      fill: #174EA6;\n",
              "    }\n",
              "\n",
              "    [theme=dark] .colab-df-convert {\n",
              "      background-color: #3B4455;\n",
              "      fill: #D2E3FC;\n",
              "    }\n",
              "\n",
              "    [theme=dark] .colab-df-convert:hover {\n",
              "      background-color: #434B5C;\n",
              "      box-shadow: 0px 1px 3px 1px rgba(0, 0, 0, 0.15);\n",
              "      filter: drop-shadow(0px 1px 2px rgba(0, 0, 0, 0.3));\n",
              "      fill: #FFFFFF;\n",
              "    }\n",
              "  </style>\n",
              "\n",
              "      <script>\n",
              "        const buttonEl =\n",
              "          document.querySelector('#df-c5d0a690-c37f-4c8e-a50c-ef5ec9850606 button.colab-df-convert');\n",
              "        buttonEl.style.display =\n",
              "          google.colab.kernel.accessAllowed ? 'block' : 'none';\n",
              "\n",
              "        async function convertToInteractive(key) {\n",
              "          const element = document.querySelector('#df-c5d0a690-c37f-4c8e-a50c-ef5ec9850606');\n",
              "          const dataTable =\n",
              "            await google.colab.kernel.invokeFunction('convertToInteractive',\n",
              "                                                     [key], {});\n",
              "          if (!dataTable) return;\n",
              "\n",
              "          const docLinkHtml = 'Like what you see? Visit the ' +\n",
              "            '<a target=\"_blank\" href=https://colab.research.google.com/notebooks/data_table.ipynb>data table notebook</a>'\n",
              "            + ' to learn more about interactive tables.';\n",
              "          element.innerHTML = '';\n",
              "          dataTable['output_type'] = 'display_data';\n",
              "          await google.colab.output.renderOutput(dataTable, element);\n",
              "          const docLink = document.createElement('div');\n",
              "          docLink.innerHTML = docLinkHtml;\n",
              "          element.appendChild(docLink);\n",
              "        }\n",
              "      </script>\n",
              "    </div>\n",
              "  </div>\n",
              "  "
            ]
          },
          "metadata": {},
          "execution_count": 27
        }
      ]
    },
    {
      "cell_type": "code",
      "metadata": {
        "id": "Nx-qwJauLs15"
      },
      "source": [
        "# integer encode the documents\n",
        "encoded_docs = t.texts_to_sequences(test.TITLE + ' ' + test.DESCRIPTION)"
      ],
      "execution_count": null,
      "outputs": []
    },
    {
      "cell_type": "code",
      "metadata": {
        "id": "kgbAtnxsLs8c"
      },
      "source": [
        "# pad documents to a max length of words\n",
        "padded_docs = pad_sequences(encoded_docs, maxlen=max_length, padding='post')"
      ],
      "execution_count": null,
      "outputs": []
    },
    {
      "cell_type": "code",
      "metadata": {
        "id": "GA_4DaVx_CrE"
      },
      "source": [
        "#Выполним предсказание \n",
        "result1 = model.predict(padded_docs)\n",
        "result2 = model2.predict(padded_docs)\n",
        "result = (result1+result2).argmax(axis = 1)"
      ],
      "execution_count": null,
      "outputs": []
    },
    {
      "cell_type": "code",
      "metadata": {
        "id": "RSvsRHb1N6cJ"
      },
      "source": [
        "#Получим True метки класса\n",
        "true = test.GENRE.replace(genre_key,)"
      ],
      "execution_count": null,
      "outputs": []
    },
    {
      "cell_type": "code",
      "metadata": {
        "id": "1CQdepLBOm1A",
        "colab": {
          "base_uri": "https://localhost:8080/"
        },
        "outputId": "f069b9ce-1b77-4509-8838-03452bdfcaac"
      },
      "source": [
        "metrics.f1_score(true.values, result,average='micro')"
      ],
      "execution_count": null,
      "outputs": [
        {
          "output_type": "execute_result",
          "data": {
            "text/plain": [
              "0.6067527675276753"
            ]
          },
          "metadata": {},
          "execution_count": 32
        }
      ]
    },
    {
      "cell_type": "code",
      "metadata": {
        "id": "boH1QVGvOm_Q",
        "colab": {
          "base_uri": "https://localhost:8080/"
        },
        "outputId": "b81f16ae-90ba-4b74-e0de-6da39d31a173"
      },
      "source": [
        "metrics.f1_score(true.values, result,average='macro')"
      ],
      "execution_count": null,
      "outputs": [
        {
          "output_type": "execute_result",
          "data": {
            "text/plain": [
              "0.3627050791278985"
            ]
          },
          "metadata": {},
          "execution_count": 33
        }
      ]
    },
    {
      "cell_type": "markdown",
      "metadata": {
        "id": "1kI0xnTpz4wN"
      },
      "source": [
        "Результат немного улучшелись. В первую очередь думаю что это связано с использованиям GloVE"
      ]
    },
    {
      "cell_type": "code",
      "metadata": {
        "id": "ZC-njguqvdUc",
        "colab": {
          "base_uri": "https://localhost:8080/",
          "height": 211
        },
        "outputId": "2916326f-2d82-4cde-b8be-7353be3b5946"
      },
      "source": [
        "#График предсказаний \n",
        "\n",
        "fig, plot = plt.subplots()\n",
        "fig.set_figwidth(10)    \n",
        "fig.set_figheight(3)\n",
        "\n",
        "plot.hist(result,bins = 27)\n",
        "plt.show()"
      ],
      "execution_count": null,
      "outputs": [
        {
          "output_type": "display_data",
          "data": {
            "text/plain": [
              "<Figure size 720x216 with 1 Axes>"
            ],
            "image/png": "[encoded data removed]"
          },
          "metadata": {
            "needs_background": "light"
          }
        }
      ]
    },
    {
      "cell_type": "code",
      "metadata": {
        "id": "w9B6vaHxwo15",
        "colab": {
          "base_uri": "https://localhost:8080/",
          "height": 212
        },
        "outputId": "c99248d0-4b1b-4c39-af50-96fee821160c"
      },
      "source": [
        "#График True меток\n",
        "fig, plot = plt.subplots()\n",
        "fig.set_figwidth(10)    \n",
        "fig.set_figheight(3)\n",
        "\n",
        "plot.hist(true,bins = 27)\n",
        "plt.show()"
      ],
      "execution_count": null,
      "outputs": [
        {
          "output_type": "display_data",
          "data": {
            "text/plain": [
              "<Figure size 720x216 with 1 Axes>"
            ],
            "image/png": "[encoded data removed]"
          },
          "metadata": {
            "needs_background": "light"
          }
        }
      ]
    },
    {
      "cell_type": "code",
      "source": [
        ""
      ],
      "metadata": {
        "id": "NIBxpE40IbD_"
      },
      "execution_count": null,
      "outputs": []
    }
  ]
}